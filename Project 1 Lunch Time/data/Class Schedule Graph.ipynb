{
 "cells": [
  {
   "cell_type": "code",
   "execution_count": 0,
   "metadata": {
    "collapsed": false,
    "scrolled": true
   },
   "outputs": [
   ],
   "source": [
   ]
  },
  {
   "cell_type": "code",
   "execution_count": 12,
   "metadata": {
    "collapsed": false
   },
   "outputs": [
    {
     "ename": "ValueError",
     "evalue": "x and y must have same first dimension, but have shapes (30,) and (108,)",
     "output_type": "error",
     "traceback": [
      "\u001b[0;31m---------------------------------------------------------------------------\u001b[0m",
      "\u001b[0;31mValueError\u001b[0m                                Traceback (most recent call last)",
      "\u001b[0;32m<ipython-input-12-699e34e2707b>\u001b[0m in \u001b[0;36m<module>\u001b[0;34m\u001b[0m\n\u001b[1;32m     50\u001b[0m \u001b[0mendRange\u001b[0m \u001b[0;34m=\u001b[0m \u001b[0;36m108\u001b[0m\u001b[0;34m\u001b[0m\u001b[0;34m\u001b[0m\u001b[0m\n\u001b[1;32m     51\u001b[0m \u001b[0mtimes\u001b[0m \u001b[0;34m=\u001b[0m \u001b[0;34m[\u001b[0m\u001b[0;36m11.5\u001b[0m \u001b[0;34m+\u001b[0m \u001b[0;36m2.5\u001b[0m\u001b[0;34m/\u001b[0m\u001b[0;36m30\u001b[0m\u001b[0;34m*\u001b[0m\u001b[0mi\u001b[0m \u001b[0;32mfor\u001b[0m \u001b[0mi\u001b[0m \u001b[0;32min\u001b[0m \u001b[0mrange\u001b[0m\u001b[0;34m(\u001b[0m\u001b[0;36m30\u001b[0m\u001b[0;34m)\u001b[0m\u001b[0;34m]\u001b[0m\u001b[0;34m\u001b[0m\u001b[0;34m\u001b[0m\u001b[0m\n\u001b[0;32m---> 52\u001b[0;31m \u001b[0mplt\u001b[0m\u001b[0;34m.\u001b[0m\u001b[0mplot\u001b[0m\u001b[0;34m(\u001b[0m\u001b[0mtimes\u001b[0m\u001b[0;34m,\u001b[0m \u001b[0mstudentsBusy\u001b[0m\u001b[0;34m[\u001b[0m\u001b[0;36m0\u001b[0m\u001b[0;34m]\u001b[0m\u001b[0;34m[\u001b[0m\u001b[0mstartRange\u001b[0m\u001b[0;34m:\u001b[0m\u001b[0mendRange\u001b[0m\u001b[0;34m]\u001b[0m\u001b[0;34m,\u001b[0m \u001b[0;34m'r--'\u001b[0m\u001b[0;34m,\u001b[0m \u001b[0mtimes\u001b[0m\u001b[0;34m,\u001b[0m \u001b[0mstudentsBusy\u001b[0m\u001b[0;34m[\u001b[0m\u001b[0;36m1\u001b[0m\u001b[0;34m]\u001b[0m\u001b[0;34m[\u001b[0m\u001b[0mstartRange\u001b[0m\u001b[0;34m:\u001b[0m\u001b[0mendRange\u001b[0m\u001b[0;34m]\u001b[0m\u001b[0;34m,\u001b[0m \u001b[0;34m'b--'\u001b[0m\u001b[0;34m,\u001b[0m \u001b[0mtimes\u001b[0m\u001b[0;34m,\u001b[0m \u001b[0mstudentsBusy\u001b[0m\u001b[0;34m[\u001b[0m\u001b[0;36m2\u001b[0m\u001b[0;34m]\u001b[0m\u001b[0;34m[\u001b[0m\u001b[0mstartRange\u001b[0m\u001b[0;34m:\u001b[0m\u001b[0mendRange\u001b[0m\u001b[0;34m]\u001b[0m\u001b[0;34m,\u001b[0m \u001b[0;34m'g--'\u001b[0m\u001b[0;34m,\u001b[0m \u001b[0mtimes\u001b[0m\u001b[0;34m,\u001b[0m \u001b[0mstudentsBusy\u001b[0m\u001b[0;34m[\u001b[0m\u001b[0;36m3\u001b[0m\u001b[0;34m]\u001b[0m\u001b[0;34m[\u001b[0m\u001b[0mstartRange\u001b[0m\u001b[0;34m:\u001b[0m\u001b[0mendRange\u001b[0m\u001b[0;34m]\u001b[0m\u001b[0;34m,\u001b[0m \u001b[0;34m'c--'\u001b[0m\u001b[0;34m,\u001b[0m \u001b[0mtimes\u001b[0m\u001b[0;34m,\u001b[0m \u001b[0mstudentsBusy\u001b[0m\u001b[0;34m[\u001b[0m\u001b[0;36m4\u001b[0m\u001b[0;34m]\u001b[0m\u001b[0;34m[\u001b[0m\u001b[0mstartRange\u001b[0m\u001b[0;34m:\u001b[0m\u001b[0mendRange\u001b[0m\u001b[0;34m]\u001b[0m\u001b[0;34m,\u001b[0m \u001b[0;34m'k--'\u001b[0m\u001b[0;34m)\u001b[0m\u001b[0;34m\u001b[0m\u001b[0;34m\u001b[0m\u001b[0m\n\u001b[0m\u001b[1;32m     53\u001b[0m \u001b[0;31m# plt.plot(studentsBusy[0][startRange:endRange], 'r--', studentsBusy[1][startRange:endRange], 'b--', studentsBusy[2][startRange:endRange], 'g--', studentsBusy[3][startRange:endRange], 'c--', studentsBusy[4][startRange:endRange], 'k--')\u001b[0m\u001b[0;34m\u001b[0m\u001b[0;34m\u001b[0m\u001b[0;34m\u001b[0m\u001b[0m\n\u001b[1;32m     54\u001b[0m \u001b[0mplt\u001b[0m\u001b[0;34m.\u001b[0m\u001b[0mshow\u001b[0m\u001b[0;34m(\u001b[0m\u001b[0;34m)\u001b[0m\u001b[0;34m\u001b[0m\u001b[0;34m\u001b[0m\u001b[0m\n",
      "\u001b[0;32m/srv/conda/envs/notebook/lib/python3.7/site-packages/matplotlib/pyplot.py\u001b[0m in \u001b[0;36mplot\u001b[0;34m(scalex, scaley, data, *args, **kwargs)\u001b[0m\n\u001b[1;32m   2793\u001b[0m     return gca().plot(\n\u001b[1;32m   2794\u001b[0m         *args, scalex=scalex, scaley=scaley, **({\"data\": data} if data\n\u001b[0;32m-> 2795\u001b[0;31m         is not None else {}), **kwargs)\n\u001b[0m\u001b[1;32m   2796\u001b[0m \u001b[0;34m\u001b[0m\u001b[0m\n\u001b[1;32m   2797\u001b[0m \u001b[0;34m\u001b[0m\u001b[0m\n",
      "\u001b[0;32m/srv/conda/envs/notebook/lib/python3.7/site-packages/matplotlib/axes/_axes.py\u001b[0m in \u001b[0;36mplot\u001b[0;34m(self, scalex, scaley, data, *args, **kwargs)\u001b[0m\n\u001b[1;32m   1664\u001b[0m         \"\"\"\n\u001b[1;32m   1665\u001b[0m         \u001b[0mkwargs\u001b[0m \u001b[0;34m=\u001b[0m \u001b[0mcbook\u001b[0m\u001b[0;34m.\u001b[0m\u001b[0mnormalize_kwargs\u001b[0m\u001b[0;34m(\u001b[0m\u001b[0mkwargs\u001b[0m\u001b[0;34m,\u001b[0m \u001b[0mmlines\u001b[0m\u001b[0;34m.\u001b[0m\u001b[0mLine2D\u001b[0m\u001b[0;34m.\u001b[0m\u001b[0m_alias_map\u001b[0m\u001b[0;34m)\u001b[0m\u001b[0;34m\u001b[0m\u001b[0;34m\u001b[0m\u001b[0m\n\u001b[0;32m-> 1666\u001b[0;31m         \u001b[0mlines\u001b[0m \u001b[0;34m=\u001b[0m \u001b[0;34m[\u001b[0m\u001b[0;34m*\u001b[0m\u001b[0mself\u001b[0m\u001b[0;34m.\u001b[0m\u001b[0m_get_lines\u001b[0m\u001b[0;34m(\u001b[0m\u001b[0;34m*\u001b[0m\u001b[0margs\u001b[0m\u001b[0;34m,\u001b[0m \u001b[0mdata\u001b[0m\u001b[0;34m=\u001b[0m\u001b[0mdata\u001b[0m\u001b[0;34m,\u001b[0m \u001b[0;34m**\u001b[0m\u001b[0mkwargs\u001b[0m\u001b[0;34m)\u001b[0m\u001b[0;34m]\u001b[0m\u001b[0;34m\u001b[0m\u001b[0;34m\u001b[0m\u001b[0m\n\u001b[0m\u001b[1;32m   1667\u001b[0m         \u001b[0;32mfor\u001b[0m \u001b[0mline\u001b[0m \u001b[0;32min\u001b[0m \u001b[0mlines\u001b[0m\u001b[0;34m:\u001b[0m\u001b[0;34m\u001b[0m\u001b[0;34m\u001b[0m\u001b[0m\n\u001b[1;32m   1668\u001b[0m             \u001b[0mself\u001b[0m\u001b[0;34m.\u001b[0m\u001b[0madd_line\u001b[0m\u001b[0;34m(\u001b[0m\u001b[0mline\u001b[0m\u001b[0;34m)\u001b[0m\u001b[0;34m\u001b[0m\u001b[0;34m\u001b[0m\u001b[0m\n",
      "\u001b[0;32m/srv/conda/envs/notebook/lib/python3.7/site-packages/matplotlib/axes/_base.py\u001b[0m in \u001b[0;36m__call__\u001b[0;34m(self, *args, **kwargs)\u001b[0m\n\u001b[1;32m    223\u001b[0m                 \u001b[0mthis\u001b[0m \u001b[0;34m+=\u001b[0m \u001b[0margs\u001b[0m\u001b[0;34m[\u001b[0m\u001b[0;36m0\u001b[0m\u001b[0;34m]\u001b[0m\u001b[0;34m,\u001b[0m\u001b[0;34m\u001b[0m\u001b[0;34m\u001b[0m\u001b[0m\n\u001b[1;32m    224\u001b[0m                 \u001b[0margs\u001b[0m \u001b[0;34m=\u001b[0m \u001b[0margs\u001b[0m\u001b[0;34m[\u001b[0m\u001b[0;36m1\u001b[0m\u001b[0;34m:\u001b[0m\u001b[0;34m]\u001b[0m\u001b[0;34m\u001b[0m\u001b[0;34m\u001b[0m\u001b[0m\n\u001b[0;32m--> 225\u001b[0;31m             \u001b[0;32myield\u001b[0m \u001b[0;32mfrom\u001b[0m \u001b[0mself\u001b[0m\u001b[0;34m.\u001b[0m\u001b[0m_plot_args\u001b[0m\u001b[0;34m(\u001b[0m\u001b[0mthis\u001b[0m\u001b[0;34m,\u001b[0m \u001b[0mkwargs\u001b[0m\u001b[0;34m)\u001b[0m\u001b[0;34m\u001b[0m\u001b[0;34m\u001b[0m\u001b[0m\n\u001b[0m\u001b[1;32m    226\u001b[0m \u001b[0;34m\u001b[0m\u001b[0m\n\u001b[1;32m    227\u001b[0m     \u001b[0;32mdef\u001b[0m \u001b[0mget_next_color\u001b[0m\u001b[0;34m(\u001b[0m\u001b[0mself\u001b[0m\u001b[0;34m)\u001b[0m\u001b[0;34m:\u001b[0m\u001b[0;34m\u001b[0m\u001b[0;34m\u001b[0m\u001b[0m\n",
      "\u001b[0;32m/srv/conda/envs/notebook/lib/python3.7/site-packages/matplotlib/axes/_base.py\u001b[0m in \u001b[0;36m_plot_args\u001b[0;34m(self, tup, kwargs)\u001b[0m\n\u001b[1;32m    389\u001b[0m             \u001b[0mx\u001b[0m\u001b[0;34m,\u001b[0m \u001b[0my\u001b[0m \u001b[0;34m=\u001b[0m \u001b[0mindex_of\u001b[0m\u001b[0;34m(\u001b[0m\u001b[0mtup\u001b[0m\u001b[0;34m[\u001b[0m\u001b[0;34m-\u001b[0m\u001b[0;36m1\u001b[0m\u001b[0;34m]\u001b[0m\u001b[0;34m)\u001b[0m\u001b[0;34m\u001b[0m\u001b[0;34m\u001b[0m\u001b[0m\n\u001b[1;32m    390\u001b[0m \u001b[0;34m\u001b[0m\u001b[0m\n\u001b[0;32m--> 391\u001b[0;31m         \u001b[0mx\u001b[0m\u001b[0;34m,\u001b[0m \u001b[0my\u001b[0m \u001b[0;34m=\u001b[0m \u001b[0mself\u001b[0m\u001b[0;34m.\u001b[0m\u001b[0m_xy_from_xy\u001b[0m\u001b[0;34m(\u001b[0m\u001b[0mx\u001b[0m\u001b[0;34m,\u001b[0m \u001b[0my\u001b[0m\u001b[0;34m)\u001b[0m\u001b[0;34m\u001b[0m\u001b[0;34m\u001b[0m\u001b[0m\n\u001b[0m\u001b[1;32m    392\u001b[0m \u001b[0;34m\u001b[0m\u001b[0m\n\u001b[1;32m    393\u001b[0m         \u001b[0;32mif\u001b[0m \u001b[0mself\u001b[0m\u001b[0;34m.\u001b[0m\u001b[0mcommand\u001b[0m \u001b[0;34m==\u001b[0m \u001b[0;34m'plot'\u001b[0m\u001b[0;34m:\u001b[0m\u001b[0;34m\u001b[0m\u001b[0;34m\u001b[0m\u001b[0m\n",
      "\u001b[0;32m/srv/conda/envs/notebook/lib/python3.7/site-packages/matplotlib/axes/_base.py\u001b[0m in \u001b[0;36m_xy_from_xy\u001b[0;34m(self, x, y)\u001b[0m\n\u001b[1;32m    268\u001b[0m         \u001b[0;32mif\u001b[0m \u001b[0mx\u001b[0m\u001b[0;34m.\u001b[0m\u001b[0mshape\u001b[0m\u001b[0;34m[\u001b[0m\u001b[0;36m0\u001b[0m\u001b[0;34m]\u001b[0m \u001b[0;34m!=\u001b[0m \u001b[0my\u001b[0m\u001b[0;34m.\u001b[0m\u001b[0mshape\u001b[0m\u001b[0;34m[\u001b[0m\u001b[0;36m0\u001b[0m\u001b[0;34m]\u001b[0m\u001b[0;34m:\u001b[0m\u001b[0;34m\u001b[0m\u001b[0;34m\u001b[0m\u001b[0m\n\u001b[1;32m    269\u001b[0m             raise ValueError(\"x and y must have same first dimension, but \"\n\u001b[0;32m--> 270\u001b[0;31m                              \"have shapes {} and {}\".format(x.shape, y.shape))\n\u001b[0m\u001b[1;32m    271\u001b[0m         \u001b[0;32mif\u001b[0m \u001b[0mx\u001b[0m\u001b[0;34m.\u001b[0m\u001b[0mndim\u001b[0m \u001b[0;34m>\u001b[0m \u001b[0;36m2\u001b[0m \u001b[0;32mor\u001b[0m \u001b[0my\u001b[0m\u001b[0;34m.\u001b[0m\u001b[0mndim\u001b[0m \u001b[0;34m>\u001b[0m \u001b[0;36m2\u001b[0m\u001b[0;34m:\u001b[0m\u001b[0;34m\u001b[0m\u001b[0;34m\u001b[0m\u001b[0m\n\u001b[1;32m    272\u001b[0m             raise ValueError(\"x and y can be no greater than 2-D, but have \"\n",
      "\u001b[0;31mValueError\u001b[0m: x and y must have same first dimension, but have shapes (30,) and (108,)"
     ]
    },
    {
     "data": {
      "image/png": "[encoded data removed]",
      "text/plain": [
       "<Figure size 432x288 with 1 Axes>"
      ]
     },
     "execution_count": 12,
     "metadata": {
      "needs_background": "light"
     },
     "output_type": "execute_result"
    }
   ],
   "source": [
    "import numpy as np\n",
    "import matplotlib.pyplot as plt\n",
    "\n",
    "class duration:\n",
    "    def __init__(self, hour, minute, hour2, minute2):\n",
    "        self.startTime = (hour - 9) * 12 + minute / 5\n",
    "        self.endTime = (hour2 - 9) * 12 + minute2 / 5\n",
    "\n",
    "class Class:\n",
    "    def __init__(self, students, week):\n",
    "        self.students = students\n",
    "        self.week = week\n",
    "\n",
    "studentsBusy = [[0 for i in range(108)] for j in range(5)]\n",
    "\n",
    "classes = [Class(11, {0:duration(13,30,16,10)}),\n",
    "           Class(9, {1:duration(13,30,16,10)}),\n",
    "           Class(18, {1:duration(15,20,17,50)}),\n",
    "           Class(26, {1:duration(12,50,15,15)}),\n",
    "           Class(6, {2:duration(13,0,17,0)}),\n",
    "           Class(86, {2:duration(13,30,15,10)}),\n",
    "           Class(9, {2:duration(15,30,18,30)}),\n",
    "           Class(26, {0:duration(13,30,16,10), 3:duration(13,30,15,10)}),\n",
    "           Class(97, {0:duration(13,30,15,10), 3:duration(13,30,15,10)}),\n",
    "           Class(24, {0:duration(15,20,18,0), 3:duration(15,20,18,0)}),\n",
    "           Class(102, {0:duration(9,0,10,40), 3:duration(9,0,10,40)}),\n",
    "           Class(119, {0:duration(9,50,12,30), 3:duration(9,50,12,30)}),\n",
    "           Class(148, {0:duration(10,50,12,30), 3:duration(10,50,12,30)}),\n",
    "           Class(24, {3:duration(15,20,17,0), 4:duration(13,30,15,10)}),\n",
    "           Class(22, {3:duration(15,20,17,0), 4:duration(10,50,12,30)}),\n",
    "           Class(23, {0:duration(15,20,17,0), 1:duration(13,30,15,10)}),\n",
    "           Class(26, {1:duration(15,25,18,35), 3:duration(15,25,17,35)}),\n",
    "           Class(22, {0:duration(15,20,17,0), 1:duration(10,50,12,30)}),\n",
    "           Class(99, {1:duration(13,30,15,10), 4:duration(13,30,15,10)}),\n",
    "           Class(113, {1:duration(9,0,10,40), 4:duration(9,0,10,40)}),\n",
    "           Class(18, {1:duration(9,0,12,30), 4:duration(9,0,12,30)}),\n",
    "           Class(105, {1:duration(10,50,12,30), 4:duration(10,50,12,30)}),\n",
    "           Class(14, {1:duration(10,45,12,35), 4:duration(10,45,12,35)}),\n",
    "           Class(24, {1:duration(15,20,18,0), 2:duration(15,20,18,0)}),\n",
    "           Class(90, {1:duration(9,0,10,40), 2:duration(9,0,10,40), 4:duration(9,0,10,40)}),\n",
    "           Class(16, {2:duration(12,30,15,10), 4:duration(13,30,15,10)})]\n",
    "\n",
    "for c in classes:\n",
    "    for day in c.week.keys():\n",
    "        for t in range(len(studentsBusy[day])):\n",
    "            if t >= c.week[day].startTime and t <= c.week[day].endTime:\n",
    "                studentsBusy[day][t] += c.students\n",
    "\n",
    "startRange = 0\n",
    "endRange = 60\n",
    "times = [11.5 + 2.5/30*i for i in range(30)]\n",
    "plt.plot(times, studentsBusy[0][startRange:endRange], 'r--', times, studentsBusy[1][startRange:endRange], 'b--', times, studentsBusy[2][startRange:endRange], 'g--', times, studentsBusy[3][startRange:endRange], 'c--', times, studentsBusy[4][startRange:endRange], 'k--')\n",
    "# plt.plot(studentsBusy[0][startRange:endRange], 'r--', studentsBusy[1][startRange:endRange], 'b--', studentsBusy[2][startRange:endRange], 'g--', studentsBusy[3][startRange:endRange], 'c--', studentsBusy[4][startRange:endRange], 'k--')\n",
    "plt.show()"
   ]
  },
  {
   "cell_type": "code",
   "execution_count": 0,
   "metadata": {
    "collapsed": false
   },
   "outputs": [
   ],
   "source": [
    "# Runs class schedule data compiling, summing up number of students in class at a\n",
    "# given minute of the day based on each class' times and # students enrolled\n",
    "\n",
    "class duration:\n",
    "    def __init__(self, hour, minute, hour2, minute2):\n",
    "        self.startTime = (hour - 9) * 60 + minute\n",
    "        self.endTime = (hour2 - 9) * 60 + minute2\n",
    "\n",
    "class Class:\n",
    "    def __init__(self, students, week):\n",
    "        self.students = students\n",
    "        self.week = week\n",
    "\n",
    "# First number (0) is day of the week beginning on Monday\n",
    "# Second is minutes since 9am\n",
    "studentsBusy = [[0 for i in range(600)] for j in range(5)]\n",
    "\n",
    "classes = [Class(11, {0:duration(13,30,16,10)}), Class(9, {1:duration(13,30,16,10)}),\n",
    "           Class(18, {1:duration(15,20,17,50)}), Class(26, {1:duration(12,50,15,15)}),\n",
    "           Class(6, {2:duration(13,0,17,0)}), Class(86, {2:duration(13,30,15,10)}),\n",
    "           Class(9, {2:duration(15,30,18,30)}),\n",
    "           Class(26, {0:duration(13,30,16,10), 3:duration(13,30,15,10)}),\n",
    "           Class(97, {0:duration(13,30,15,10), 3:duration(13,30,15,10)}),\n",
    "           Class(24, {0:duration(15,20,18,0), 3:duration(15,20,18,0)}),\n",
    "           Class(102, {0:duration(9,0,10,40), 3:duration(9,0,10,40)}),\n",
    "           Class(119, {0:duration(9,50,12,30), 3:duration(9,50,12,30)}),\n",
    "           Class(148, {0:duration(10,50,12,30), 3:duration(10,50,12,30)}),\n",
    "           Class(24, {3:duration(15,20,17,0), 4:duration(13,30,15,10)}),\n",
    "           Class(22, {3:duration(15,20,17,0), 4:duration(10,50,12,30)}),\n",
    "           Class(23, {0:duration(15,20,17,0), 1:duration(13,30,15,10)}),\n",
    "           Class(26, {1:duration(15,25,18,35), 3:duration(15,25,17,35)}),\n",
    "           Class(22, {0:duration(15,20,17,0), 1:duration(10,50,12,30)}),\n",
    "           Class(99, {1:duration(13,30,15,10), 4:duration(13,30,15,10)}),\n",
    "           Class(113, {1:duration(9,0,10,40), 4:duration(9,0,10,40)}),\n",
    "           Class(18, {1:duration(9,0,12,30), 4:duration(9,0,12,30)}),\n",
    "           Class(105, {1:duration(10,50,12,30), 4:duration(10,50,12,30)}),\n",
    "           Class(14, {1:duration(10,45,12,35), 4:duration(10,45,12,35)}),\n",
    "           Class(24, {1:duration(15,20,18,0), 2:duration(15,20,18,0)}),\n",
    "           Class(90, {1:duration(9,0,10,40), 2:duration(9,0,10,40), 4:duration(9,0,10,40)}),\n",
    "           Class(16, {2:duration(12,30,15,10), 4:duration(13,30,15,10)})]\n",
    "\n",
    "print(\"Above is this year's class shedule\")"
   ]
  },
  {
   "cell_type": "code",
   "execution_count": 0,
   "metadata": {
    "collapsed": false
   },
   "outputs": [
   ],
   "source": [
    "# for loop to sum up students in class on a given day and at a given time\n",
    "for c in classes:\n",
    "    for day in c.week.keys():\n",
    "        for t in range(len(studentsBusy[day])):\n",
    "            if t >= c.week[day].startTime and t <= c.week[day].endTime:\n",
    "                studentsBusy[day][t] += c.students\n",
    "\n",
    "startRange = 150\n",
    "endRange = 300\n",
    "diff = endRange - startRange\n",
    "for day in range(len(studentsBusy)):\n",
    "    studentsBusy[day] = studentsBusy[day][startRange:endRange]\n",
    "\n",
    "# Commented out graph that can be seen later in the Results Section\n",
    "plt.plot(studentsBusy[0], 'r--', label=\"Monday\")\n",
    "plt.plot(studentsBusy[1], 'b--', label=\"Tuesday\")\n",
    "plt.plot(studentsBusy[2], 'g--', label=\"Wednesday\")\n",
    "plt.plot(studentsBusy[3], 'c--', label=\"Thursday\")\n",
    "plt.plot(studentsBusy[4], 'k--')\n",
    "plt.ylabel('People in class')\n",
    "plt.xlabel('Time (min since lunch start)')\n",
    "plt.title('Class schedule')"
   ]
  }
 ],
 "metadata": {
  "kernelspec": {
   "display_name": "Python 3",
   "language": "python",
   "name": "python3"
  },
  "language_info": {
   "codemirror_mode": {
    "name": "ipython",
    "version": 3
   },
   "file_extension": ".py",
   "mimetype": "text/x-python",
   "name": "python",
   "nbconvert_exporter": "python",
   "pygments_lexer": "ipython3",
   "version": "3.7.3"
  }
 },
 "nbformat": 4,
 "nbformat_minor": 0
}