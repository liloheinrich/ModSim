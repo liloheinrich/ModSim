{
 "cells": [
  {
   "cell_type": "code",
   "execution_count": 1,
   "metadata": {
    "collapsed": false
   },
   "outputs": [
   ],
   "source": [
    "# Configure Jupyter so figures appear in the notebook\n",
    "%matplotlib inline\n",
    "\n",
    "# Configure Jupyter to display the assigned value after an assignment\n",
    "%config InteractiveShell.ast_node_interactivity='last_expr_or_assign'\n",
    "\n",
    "# import functions from the modsim.py module\n",
    "from modsim import *\n",
    "import matplotlib\n",
    "\n",
    "import math"
   ]
  },
  {
   "cell_type": "code",
   "execution_count": 2,
   "metadata": {
    "collapsed": false
   },
   "outputs": [
    {
     "data": {
      "text/html": [
       "day"
      ],
      "text/latex": [
       "$\\mathrm{day}$"
      ],
      "text/plain": [
       "<Unit('day')>"
      ]
     },
     "execution_count": 2,
     "metadata": {
     },
     "output_type": "execute_result"
    }
   ],
   "source": [
    "m = UNITS.meter\n",
    "s = UNITS.second\n",
    "kg = UNITS.kilograms\n",
    "d = UNITS.days"
   ]
  },
  {
   "cell_type": "code",
   "execution_count": 3,
   "metadata": {
    "collapsed": false
   },
   "outputs": [
    {
     "data": {
      "text/html": [
       "<div>\n",
       "<style scoped>\n",
       "    .dataframe tbody tr th:only-of-type {\n",
       "        vertical-align: middle;\n",
       "    }\n",
       "\n",
       "    .dataframe tbody tr th {\n",
       "        vertical-align: top;\n",
       "    }\n",
       "\n",
       "    .dataframe thead th {\n",
       "        text-align: right;\n",
       "    }\n",
       "</style>\n",
       "<table border=\"1\" class=\"dataframe\">\n",
       "  <thead>\n",
       "    <tr style=\"text-align: right;\">\n",
       "      <th></th>\n",
       "      <th>values</th>\n",
       "    </tr>\n",
       "  </thead>\n",
       "  <tbody>\n",
       "    <tr>\n",
       "      <td>r</td>\n",
       "      <td>149604618000.0 meter</td>\n",
       "    </tr>\n",
       "    <tr>\n",
       "      <td>v</td>\n",
       "      <td>0.0 meter / second</td>\n",
       "    </tr>\n",
       "  </tbody>\n",
       "</table>\n",
       "</div>"
      ],
      "text/plain": [
       "r    149604618000.0 meter\n",
       "v      0.0 meter / second\n",
       "dtype: object"
      ]
     },
     "execution_count": 3,
     "metadata": {
     },
     "output_type": "execute_result"
    }
   ],
   "source": [
    "# mass in terms of kg\n",
    "init = State(r = 1.49604618e11 * m, v = 0.0 * m / s)"
   ]
  },
  {
   "cell_type": "code",
   "execution_count": 4,
   "metadata": {
    "collapsed": false
   },
   "outputs": [
    {
     "data": {
      "text/html": [
       "1800 second"
      ],
      "text/latex": [
       "$1800\\ \\mathrm{second}$"
      ],
      "text/plain": [
       "1800 <Unit('second')>"
      ]
     },
     "execution_count": 4,
     "metadata": {
     },
     "output_type": "execute_result"
    }
   ],
   "source": [
    "secPerDay = 86400 * s / d\n",
    "t_end = 100 * secPerDay * d # 100 days\n",
    "dt = 1800 * s # 30 min in seconds"
   ]
  },
  {
   "cell_type": "code",
   "execution_count": 5,
   "metadata": {
    "collapsed": false,
    "scrolled": true
   },
   "outputs": [
    {
     "data": {
      "text/html": [
       "<div>\n",
       "<style scoped>\n",
       "    .dataframe tbody tr th:only-of-type {\n",
       "        vertical-align: middle;\n",
       "    }\n",
       "\n",
       "    .dataframe tbody tr th {\n",
       "        vertical-align: top;\n",
       "    }\n",
       "\n",
       "    .dataframe thead th {\n",
       "        text-align: right;\n",
       "    }\n",
       "</style>\n",
       "<table border=\"1\" class=\"dataframe\">\n",
       "  <thead>\n",
       "    <tr style=\"text-align: right;\">\n",
       "      <th></th>\n",
       "      <th>values</th>\n",
       "    </tr>\n",
       "  </thead>\n",
       "  <tbody>\n",
       "    <tr>\n",
       "      <td>init</td>\n",
       "      <td>r    149604618000.0 meter\n",
       "v      0.0 meter / s...</td>\n",
       "    </tr>\n",
       "    <tr>\n",
       "      <td>mSun</td>\n",
       "      <td>1.9885e+30 kilogram</td>\n",
       "    </tr>\n",
       "    <tr>\n",
       "      <td>G</td>\n",
       "      <td>6.67408e-11 meter ** 3 / kilogram / second ** 2</td>\n",
       "    </tr>\n",
       "    <tr>\n",
       "      <td>t_end</td>\n",
       "      <td>8640000.0 second</td>\n",
       "    </tr>\n",
       "    <tr>\n",
       "      <td>dt</td>\n",
       "      <td>1800 second</td>\n",
       "    </tr>\n",
       "  </tbody>\n",
       "</table>\n",
       "</div>"
      ],
      "text/plain": [
       "init     r    149604618000.0 meter\n",
       "v      0.0 meter / s...\n",
       "mSun                                   1.9885e+30 kilogram\n",
       "G          6.67408e-11 meter ** 3 / kilogram / second ** 2\n",
       "t_end                                     8640000.0 second\n",
       "dt                                             1800 second\n",
       "dtype: object"
      ]
     },
     "execution_count": 5,
     "metadata": {
     },
     "output_type": "execute_result"
    }
   ],
   "source": [
    "system = System(init=init, mSun = 1988500e24 * kg, G = 6.67408e-11 * m**3 / kg / s**2, t_end=t_end, dt=dt)"
   ]
  },
  {
   "cell_type": "code",
   "execution_count": 6,
   "metadata": {
    "collapsed": false
   },
   "outputs": [
   ],
   "source": [
    "def slope_func(state, t, system):\n",
    "    \"\"\"Compute derivatives of the state.\n",
    "\n",
    "    state: position (r), velocity (v)\n",
    "    t: time\n",
    "    system: System object containing G, mSun, dt\n",
    "\n",
    "    returns: derivatives of r and v\n",
    "    \"\"\"\n",
    "    r, v = state\n",
    "    G, mSun, dt = system.G, system.mSun, system.dt\n",
    "\n",
    "    drdt = v\n",
    "    dvdt = - mSun * G / r**2\n",
    "\n",
    "    return drdt, dvdt"
   ]
  },
  {
   "cell_type": "code",
   "execution_count": 7,
   "metadata": {
    "collapsed": false
   },
   "outputs": [
    {
     "name": "stdout",
     "output_type": "stream",
     "text": [
      "0.0 meter / second\n",
      "-0.0059296219366487815 meter / second ** 2\n"
     ]
    }
   ],
   "source": [
    "drdt, dvdt = slope_func(system.init, 0, system)\n",
    "print(drdt)\n",
    "print(dvdt)"
   ]
  },
  {
   "cell_type": "code",
   "execution_count": 8,
   "metadata": {
    "collapsed": false
   },
   "outputs": [
   ],
   "source": [
    "def plot_position(xaxis, results):\n",
    "    plot(xaxis, results.r, label='r')\n",
    "    decorate(xlabel='Time (days)',\n",
    "             ylabel='Position (m)')"
   ]
  },
  {
   "cell_type": "code",
   "execution_count": 9,
   "metadata": {
    "collapsed": false
   },
   "outputs": [
   ],
   "source": [
    "def event_func(state, t, system):\n",
    "    \"\"\"Return the height of the penny above the sidewalk.\n",
    "    \"\"\"\n",
    "    r, v = state\n",
    "    collisionRadius = (6378100 + 695510196) * m\n",
    "\n",
    "    return r - collisionRadius"
   ]
  },
  {
   "cell_type": "code",
   "execution_count": 10,
   "metadata": {
    "collapsed": false
   },
   "outputs": [
    {
     "data": {
      "text/html": [
       "<div>\n",
       "<style scoped>\n",
       "    .dataframe tbody tr th:only-of-type {\n",
       "        vertical-align: middle;\n",
       "    }\n",
       "\n",
       "    .dataframe tbody tr th {\n",
       "        vertical-align: top;\n",
       "    }\n",
       "\n",
       "    .dataframe thead th {\n",
       "        text-align: right;\n",
       "    }\n",
       "</style>\n",
       "<table border=\"1\" class=\"dataframe\">\n",
       "  <thead>\n",
       "    <tr style=\"text-align: right;\">\n",
       "      <th></th>\n",
       "      <th>values</th>\n",
       "    </tr>\n",
       "  </thead>\n",
       "  <tbody>\n",
       "    <tr>\n",
       "      <td>success</td>\n",
       "      <td>True</td>\n",
       "    </tr>\n",
       "    <tr>\n",
       "      <td>message</td>\n",
       "      <td>A termination event occurred.</td>\n",
       "    </tr>\n",
       "  </tbody>\n",
       "</table>\n",
       "</div>"
      ],
      "text/plain": [
       "success                             True\n",
       "message    A termination event occurred.\n",
       "dtype: object"
      ]
     },
     "execution_count": 10,
     "metadata": {
     },
     "output_type": "execute_result"
    }
   ],
   "source": [
    "results, details = run_ode_solver(system, slope_func, events=event_func)\n",
    "details"
   ]
  },
  {
   "cell_type": "code",
   "execution_count": 11,
   "metadata": {
    "collapsed": false
   },
   "outputs": [
    {
     "data": {
      "text/html": [
       "<div>\n",
       "<style scoped>\n",
       "    .dataframe tbody tr th:only-of-type {\n",
       "        vertical-align: middle;\n",
       "    }\n",
       "\n",
       "    .dataframe tbody tr th {\n",
       "        vertical-align: top;\n",
       "    }\n",
       "\n",
       "    .dataframe thead th {\n",
       "        text-align: right;\n",
       "    }\n",
       "</style>\n",
       "<table border=\"1\" class=\"dataframe\">\n",
       "  <thead>\n",
       "    <tr style=\"text-align: right;\">\n",
       "      <th></th>\n",
       "      <th>r</th>\n",
       "      <th>v</th>\n",
       "    </tr>\n",
       "  </thead>\n",
       "  <tbody>\n",
       "    <tr>\n",
       "      <td>5.572800e+06</td>\n",
       "      <td>2871210807.5407987 meter</td>\n",
       "      <td>-301086.30968793645 meter / second</td>\n",
       "    </tr>\n",
       "    <tr>\n",
       "      <td>5.574600e+06</td>\n",
       "      <td>2303175794.147881 meter</td>\n",
       "      <td>-336771.0409121819 meter / second</td>\n",
       "    </tr>\n",
       "    <tr>\n",
       "      <td>5.576400e+06</td>\n",
       "      <td>1656457804.8681397 meter</td>\n",
       "      <td>-397708.96442912915 meter / second</td>\n",
       "    </tr>\n",
       "    <tr>\n",
       "      <td>5.578200e+06</td>\n",
       "      <td>862225848.3534552 meter</td>\n",
       "      <td>-548320.3809011652 meter / second</td>\n",
       "    </tr>\n",
       "    <tr>\n",
       "      <td>5.578426e+06</td>\n",
       "      <td>701888296.0 meter</td>\n",
       "      <td>-1098035.1543410993 meter / second</td>\n",
       "    </tr>\n",
       "  </tbody>\n",
       "</table>\n",
       "</div>"
      ],
      "text/plain": [
       "                                     r                                   v\n",
       "5.572800e+06  2871210807.5407987 meter  -301086.30968793645 meter / second\n",
       "5.574600e+06   2303175794.147881 meter   -336771.0409121819 meter / second\n",
       "5.576400e+06  1656457804.8681397 meter  -397708.96442912915 meter / second\n",
       "5.578200e+06   862225848.3534552 meter   -548320.3809011652 meter / second\n",
       "5.578426e+06         701888296.0 meter  -1098035.1543410993 meter / second"
      ]
     },
     "execution_count": 11,
     "metadata": {
     },
     "output_type": "execute_result"
    }
   ],
   "source": [
    "results.tail()"
   ]
  },
  {
   "cell_type": "code",
   "execution_count": 12,
   "metadata": {
    "collapsed": false
   },
   "outputs": [
    {
     "name": "stdout",
     "output_type": "stream",
     "text": [
      "Saving figure to file orbital_mech.pdf\n"
     ]
    },
    {
     "name": "stdout",
     "output_type": "stream",
     "text": [
      "Days for Earth to collide with the Sun: 65\n"
     ]
    },
    {
     "data": {
      "image/png": "[encoded data removed]",
      "text/plain": [
       "<Figure size 432x288 with 1 Axes>"
      ]
     },
     "execution_count": 12,
     "metadata": {
      "needs_background": "light"
     },
     "output_type": "execute_result"
    }
   ],
   "source": [
    "t_collision = get_last_label(results) / secPerDay * s / d\n",
    "days = linspace(0, t_collision, len(results))\n",
    "plot(days, results.r, label='r')\n",
    "decorate(xlabel='Time (days)', ylabel='Position (m)')\n",
    "savefig('orbital_mech.pdf')\n",
    "print(\"Days for Earth to collide with the Sun:\", int(round(t_collision)))"
   ]
  },
  {
   "cell_type": "markdown",
   "metadata": {
    "collapsed": false
   },
   "source": [
    "# 2D Orbital Model"
   ]
  },
  {
   "cell_type": "code",
   "execution_count": 13,
   "metadata": {
    "collapsed": false
   },
   "outputs": [
    {
     "data": {
      "text/html": [
       "day"
      ],
      "text/latex": [
       "$\\mathrm{day}$"
      ],
      "text/plain": [
       "<Unit('day')>"
      ]
     },
     "execution_count": 13,
     "metadata": {
     },
     "output_type": "execute_result"
    }
   ],
   "source": [
    "m = UNITS.meter\n",
    "radian = UNITS.radian\n",
    "degree = UNITS.degree\n",
    "s = UNITS.second\n",
    "kg = UNITS.kilograms\n",
    "d = UNITS.days"
   ]
  },
  {
   "cell_type": "code",
   "execution_count": 14,
   "metadata": {
    "collapsed": false
   },
   "outputs": [
    {
     "data": {
      "text/html": [
       "31536.0 second"
      ],
      "text/latex": [
       "$31536.0\\ \\mathrm{second}$"
      ],
      "text/plain": [
       "31536.0 <Unit('second')>"
      ]
     },
     "execution_count": 14,
     "metadata": {
     },
     "output_type": "execute_result"
    }
   ],
   "source": [
    "secPerDay = 86400 * s / d\n",
    "t_end = 365 * secPerDay * d * 10 # 365 days = 1 year\n",
    "# dt = 1800 * s # 30 min in seconds\n",
    "dt = t_end/10000"
   ]
  },
  {
   "cell_type": "code",
   "execution_count": 15,
   "metadata": {
    "collapsed": false
   },
   "outputs": [
    {
     "data": {
      "text/html": [
       "<div>\n",
       "<style scoped>\n",
       "    .dataframe tbody tr th:only-of-type {\n",
       "        vertical-align: middle;\n",
       "    }\n",
       "\n",
       "    .dataframe tbody tr th {\n",
       "        vertical-align: top;\n",
       "    }\n",
       "\n",
       "    .dataframe thead th {\n",
       "        text-align: right;\n",
       "    }\n",
       "</style>\n",
       "<table border=\"1\" class=\"dataframe\">\n",
       "  <thead>\n",
       "    <tr style=\"text-align: right;\">\n",
       "      <th></th>\n",
       "      <th>values</th>\n",
       "    </tr>\n",
       "  </thead>\n",
       "  <tbody>\n",
       "    <tr>\n",
       "      <td>init</td>\n",
       "      <td>r               [149600000000.0 meter, 0.0 met...</td>\n",
       "    </tr>\n",
       "    <tr>\n",
       "      <td>mSun</td>\n",
       "      <td>1.9885e+30 kilogram</td>\n",
       "    </tr>\n",
       "    <tr>\n",
       "      <td>G</td>\n",
       "      <td>6.67408e-11 meter ** 3 / kilogram / second ** 2</td>\n",
       "    </tr>\n",
       "    <tr>\n",
       "      <td>t_end</td>\n",
       "      <td>315360000.0 second</td>\n",
       "    </tr>\n",
       "    <tr>\n",
       "      <td>dt</td>\n",
       "      <td>31536.0 second</td>\n",
       "    </tr>\n",
       "  </tbody>\n",
       "</table>\n",
       "</div>"
      ],
      "text/plain": [
       "init     r               [149600000000.0 meter, 0.0 met...\n",
       "mSun                                   1.9885e+30 kilogram\n",
       "G          6.67408e-11 meter ** 3 / kilogram / second ** 2\n",
       "t_end                                   315360000.0 second\n",
       "dt                                          31536.0 second\n",
       "dtype: object"
      ]
     },
     "execution_count": 15,
     "metadata": {
     },
     "output_type": "execute_result"
    }
   ],
   "source": [
    "# init = State(r=Vector(1.496e11*m, 0.0*m), v=Vector(0.0*m/s, 2.977e4*m/s))\n",
    "init = State(r=Vector(1.496e11*m, 0.0*m), v=Vector(0.0*m/s, 15000*m/s))\n",
    "system = System(init=init, mSun=1988500e24 * kg, G=6.67408e-11 * m**3 / kg / s**2, t_end=t_end, dt=dt)"
   ]
  },
  {
   "cell_type": "code",
   "execution_count": 16,
   "metadata": {
    "collapsed": false
   },
   "outputs": [
   ],
   "source": [
    "def slope_func_2d(state, t, system):\n",
    "    \"\"\"Compute derivatives of the state.\n",
    "\n",
    "    state: position (r), velocity (v)\n",
    "    t: time\n",
    "    system: System object containing G, mSun, dt\n",
    "\n",
    "    returns: derivatives of r and v\n",
    "    \"\"\"\n",
    "\n",
    "    r, v = state\n",
    "    G, mSun = system.G, system.mSun\n",
    "\n",
    "    drdt = v\n",
    "    dvdt = -r.hat() * mSun * G / (r.mag)**2\n",
    "\n",
    "    return drdt, dvdt"
   ]
  },
  {
   "cell_type": "markdown",
   "metadata": {
    "collapsed": false
   },
   "source": [
    "#### vector ode solver method which has a divide by zero error due to the y component of the position vector starting at 0. how to fix?"
   ]
  },
  {
   "cell_type": "code",
   "execution_count": 18,
   "metadata": {
    "collapsed": false
   },
   "outputs": [
    {
     "data": {
      "text/html": [
       "<div>\n",
       "<style scoped>\n",
       "    .dataframe tbody tr th:only-of-type {\n",
       "        vertical-align: middle;\n",
       "    }\n",
       "\n",
       "    .dataframe tbody tr th {\n",
       "        vertical-align: top;\n",
       "    }\n",
       "\n",
       "    .dataframe thead th {\n",
       "        text-align: right;\n",
       "    }\n",
       "</style>\n",
       "<table border=\"1\" class=\"dataframe\">\n",
       "  <thead>\n",
       "    <tr style=\"text-align: right;\">\n",
       "      <th></th>\n",
       "      <th>values</th>\n",
       "    </tr>\n",
       "  </thead>\n",
       "  <tbody>\n",
       "    <tr>\n",
       "      <td>success</td>\n",
       "      <td>True</td>\n",
       "    </tr>\n",
       "    <tr>\n",
       "      <td>message</td>\n",
       "      <td>The solver successfully reached the end of the...</td>\n",
       "    </tr>\n",
       "  </tbody>\n",
       "</table>\n",
       "</div>"
      ],
      "text/plain": [
       "success                                                 True\n",
       "message    The solver successfully reached the end of the...\n",
       "dtype: object"
      ]
     },
     "execution_count": 18,
     "metadata": {
     },
     "output_type": "execute_result"
    }
   ],
   "source": [
    "results, details = run_ode_solver(system, slope_func_2d)\n",
    "details"
   ]
  },
  {
   "cell_type": "code",
   "execution_count": 19,
   "metadata": {
    "collapsed": false
   },
   "outputs": [
    {
     "data": {
      "text/html": [
       "<div>\n",
       "<style scoped>\n",
       "    .dataframe tbody tr th:only-of-type {\n",
       "        vertical-align: middle;\n",
       "    }\n",
       "\n",
       "    .dataframe tbody tr th {\n",
       "        vertical-align: top;\n",
       "    }\n",
       "\n",
       "    .dataframe thead th {\n",
       "        text-align: right;\n",
       "    }\n",
       "</style>\n",
       "<table border=\"1\" class=\"dataframe\">\n",
       "  <thead>\n",
       "    <tr style=\"text-align: right;\">\n",
       "      <th></th>\n",
       "      <th>r</th>\n",
       "      <th>v</th>\n",
       "    </tr>\n",
       "  </thead>\n",
       "  <tbody>\n",
       "    <tr>\n",
       "      <td>315233856</td>\n",
       "      <td>[4910791552.923948 meter, 32751319182.446575 m...</td>\n",
       "      <td>[-73877.76371720538 meter / second, -33852.581...</td>\n",
       "    </tr>\n",
       "    <tr>\n",
       "      <td>315265392</td>\n",
       "      <td>[2572060000.694435 meter, 31624238451.220062 m...</td>\n",
       "      <td>[-74334.46313331948 meter / second, -37804.160...</td>\n",
       "    </tr>\n",
       "    <tr>\n",
       "      <td>315296928</td>\n",
       "      <td>[222534316.0211692 meter, 30366708549.844597 m...</td>\n",
       "      <td>[-74526.65875414367 meter / second, -42137.365...</td>\n",
       "    </tr>\n",
       "    <tr>\n",
       "      <td>315328464</td>\n",
       "      <td>[-2128262802.1562781 meter, 28966304679.754147...</td>\n",
       "      <td>[-74370.79549286034 meter / second, -46872.357...</td>\n",
       "    </tr>\n",
       "    <tr>\n",
       "      <td>315360000</td>\n",
       "      <td>[-4467887776.78768 meter, 27410117865.366615 m...</td>\n",
       "      <td>[-73764.4414192868 meter / second, -52016.1454...</td>\n",
       "    </tr>\n",
       "  </tbody>\n",
       "</table>\n",
       "</div>"
      ],
      "text/plain": [
       "                                                           r  \\\n",
       "315233856  [4910791552.923948 meter, 32751319182.446575 m...   \n",
       "315265392  [2572060000.694435 meter, 31624238451.220062 m...   \n",
       "315296928  [222534316.0211692 meter, 30366708549.844597 m...   \n",
       "315328464  [-2128262802.1562781 meter, 28966304679.754147...   \n",
       "315360000  [-4467887776.78768 meter, 27410117865.366615 m...   \n",
       "\n",
       "                                                           v  \n",
       "315233856  [-73877.76371720538 meter / second, -33852.581...  \n",
       "315265392  [-74334.46313331948 meter / second, -37804.160...  \n",
       "315296928  [-74526.65875414367 meter / second, -42137.365...  \n",
       "315328464  [-74370.79549286034 meter / second, -46872.357...  \n",
       "315360000  [-73764.4414192868 meter / second, -52016.1454...  "
      ]
     },
     "execution_count": 19,
     "metadata": {
     },
     "output_type": "execute_result"
    }
   ],
   "source": [
    "results.tail()"
   ]
  },
  {
   "cell_type": "code",
   "execution_count": 20,
   "metadata": {
    "collapsed": false
   },
   "outputs": [
    {
     "data": {
      "text/html": [
       "<div>\n",
       "<style scoped>\n",
       "    .dataframe tbody tr th:only-of-type {\n",
       "        vertical-align: middle;\n",
       "    }\n",
       "\n",
       "    .dataframe tbody tr th {\n",
       "        vertical-align: top;\n",
       "    }\n",
       "\n",
       "    .dataframe thead th {\n",
       "        text-align: right;\n",
       "    }\n",
       "</style>\n",
       "<table border=\"1\" class=\"dataframe\">\n",
       "  <thead>\n",
       "    <tr style=\"text-align: right;\">\n",
       "      <th></th>\n",
       "      <th>r</th>\n",
       "      <th>v</th>\n",
       "    </tr>\n",
       "  </thead>\n",
       "  <tbody>\n",
       "    <tr>\n",
       "      <td>0</td>\n",
       "      <td>[149600000000.0 meter, 0.0 meter]</td>\n",
       "      <td>[0.0 meter / second, 15000.0 meter / second]</td>\n",
       "    </tr>\n",
       "    <tr>\n",
       "      <td>31536</td>\n",
       "      <td>[149597051256.242 meter, 473040000.0 meter]</td>\n",
       "      <td>[-187.0071674697058 meter / second, 14999.7043...</td>\n",
       "    </tr>\n",
       "    <tr>\n",
       "      <td>63072</td>\n",
       "      <td>[149588204982.42993 meter, 946061351.605876 me...</td>\n",
       "      <td>[-374.0234700012667 meter / second, 14998.8172...</td>\n",
       "    </tr>\n",
       "    <tr>\n",
       "      <td>94608</td>\n",
       "      <td>[149573460746.42435 meter, 1419045402.3417292 ...</td>\n",
       "      <td>[-561.0580448188505 meter / second, 14997.3386...</td>\n",
       "    </tr>\n",
       "    <tr>\n",
       "      <td>126144</td>\n",
       "      <td>[149552817827.87823 meter, 1891973491.322524 m...</td>\n",
       "      <td>[-748.1200338884271 meter / second, 14995.2680...</td>\n",
       "    </tr>\n",
       "  </tbody>\n",
       "</table>\n",
       "</div>"
      ],
      "text/plain": [
       "                                                        r  \\\n",
       "0                       [149600000000.0 meter, 0.0 meter]   \n",
       "31536         [149597051256.242 meter, 473040000.0 meter]   \n",
       "63072   [149588204982.42993 meter, 946061351.605876 me...   \n",
       "94608   [149573460746.42435 meter, 1419045402.3417292 ...   \n",
       "126144  [149552817827.87823 meter, 1891973491.322524 m...   \n",
       "\n",
       "                                                        v  \n",
       "0            [0.0 meter / second, 15000.0 meter / second]  \n",
       "31536   [-187.0071674697058 meter / second, 14999.7043...  \n",
       "63072   [-374.0234700012667 meter / second, 14998.8172...  \n",
       "94608   [-561.0580448188505 meter / second, 14997.3386...  \n",
       "126144  [-748.1200338884271 meter / second, 14995.2680...  "
      ]
     },
     "execution_count": 20,
     "metadata": {
     },
     "output_type": "execute_result"
    }
   ],
   "source": [
    "results.head()"
   ]
  },
  {
   "cell_type": "code",
   "execution_count": 21,
   "metadata": {
    "collapsed": false,
    "scrolled": true
   },
   "outputs": [
    {
     "data": {
      "text/plain": [
       "[<matplotlib.lines.Line2D at 0x7faa7e4efe48>]"
      ]
     },
     "execution_count": 21,
     "metadata": {
     },
     "output_type": "execute_result"
    },
    {
     "data": {
      "image/png": "[encoded data removed]",
      "text/plain": [
       "<Figure size 432x288 with 1 Axes>"
      ]
     },
     "execution_count": 21,
     "metadata": {
      "needs_background": "light"
     },
     "output_type": "execute_result"
    }
   ],
   "source": [
    "xs = results.r.extract('x')\n",
    "ys = results.r.extract('y')\n",
    "\n",
    "plot(xs, ys)\n",
    "# plot(xs)\n",
    "# plot(ys)\n",
    "\n",
    "# decorate(xlabel='Time (s)',\n",
    "#          ylabel='Position (m)')"
   ]
  },
  {
   "cell_type": "code",
   "execution_count": 22,
   "metadata": {
    "collapsed": false
   },
   "outputs": [
    {
     "name": "stdout",
     "output_type": "stream",
     "text": [
      "-22689935781.014717 meter 158751392100.31793 meter\n",
      "-89865132816.59145 meter 57014065376.71481 meter\n"
     ]
    }
   ],
   "source": [
    "print(min(xs), max(xs))\n",
    "print(min(ys), max(ys))"
   ]
  },
  {
   "cell_type": "code",
   "execution_count": 0,
   "metadata": {
    "collapsed": false
   },
   "outputs": [
   ],
   "source": [
   ]
  },
  {
   "cell_type": "code",
   "execution_count": 0,
   "metadata": {
    "collapsed": false
   },
   "outputs": [
   ],
   "source": [
   ]
  },
  {
   "cell_type": "code",
   "execution_count": 0,
   "metadata": {
    "collapsed": false
   },
   "outputs": [
   ],
   "source": [
   ]
  }
 ],
 "metadata": {
  "kernelspec": {
   "display_name": "Python 3",
   "language": "python",
   "name": "python3"
  },
  "language_info": {
   "codemirror_mode": {
    "name": "ipython",
    "version": 3
   },
   "file_extension": ".py",
   "mimetype": "text/x-python",
   "name": "python",
   "nbconvert_exporter": "python",
   "pygments_lexer": "ipython3",
   "version": "3.7.3"
  }
 },
 "nbformat": 4,
 "nbformat_minor": 0
}