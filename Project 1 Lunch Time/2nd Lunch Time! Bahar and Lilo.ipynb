{
 "cells": [
  {
   "cell_type": "code",
   "execution_count": 1,
   "metadata": {
    "collapsed": false
   },
   "outputs": [
   ],
   "source": [
    "# Configure Jupyter so figures appear in the notebook\n",
    "%matplotlib inline\n",
    "\n",
    "# import functions from the modsim library\n",
    "from modsim import *\n",
    "\n",
    "import math\n",
    "import matplotlib.pyplot as plt\n",
    "import queue"
   ]
  },
  {
   "cell_type": "markdown",
   "metadata": {
    "collapsed": false
   },
   "source": [
    "## Question\n",
    "\n",
    "Our central goal is to model each element of getting lunch at Olin. Our question is a predictive one: If one enters the line at a given time, how long will they wait before sitting down with their food?\n",
    "\n",
    "We have access to the total number of students as well as the overall class schedule. The class schedule tells us approximately how many students are busy or available throughout the lunch period, allowing us to predict their arrivals and departures."
   ]
  },
  {
   "cell_type": "markdown",
   "metadata": {
    "collapsed": false
   },
   "source": [
    "## Model\n",
    "\n",
    "Our model of getting lunch at Olin involves two queues. For clarity's sake, our first queue is that for the \"Line\" and the second for the \"Food Court.\" The \"Line\" is the line to swipe one's card while the \"Food Court\" is where one waits to select their meal and then leave to the dining hall to sit down and eat. To populate the Line queue, we ran an exponentional distribution off of an arrival rate. This arrival rate was defined as the percentage of students available for lunch multipled by INSERT THING HERE. To find the number of available students, we did a breakdown of the class schedules. Using the number of students available over time created variation in time it takes each student to arrive. As students arrive, they are put into the queue (q) for the Line.\n",
    "\n",
    "To determine how to populate q2 we have a swipe rate. This is how many people can move from the Line to the Food Court per minute. This swipe rate is currently arbitrarily decided, but after collecting data on Thursday, October 3rd, it will be based off of our collected average. When the dining hall is at the determined capacity, the Swipe function returns automatically, stopping the influx of students to the Food Court for that minute.\n",
    "\n",
    "Once students are in q2, the \"Food Court\", they have a probability of leaving for each minute they are there. Once a student has left the Food Court, we stop counting their time."
   ]
  },
  {
   "cell_type": "markdown",
   "metadata": {
    "collapsed": false
   },
   "source": [
    "Below are some resources we used to understand and guide our code:\n",
    "\n",
    "learning about queues: \n",
    "https://dbader.org/blog/queues-in-python\n",
    "\n",
    "could populate the queue with a for loop: \n",
    "https://www.geeksforgeeks.org/stack-queue-python-using-module-queue/\n",
    "\n",
    "learning about exponential distribution: \n",
    "https://courses.lumenlearning.com/introstats1/chapter/the-exponential-distribution/"
   ]
  },
  {
   "cell_type": "markdown",
   "metadata": {
    "collapsed": false
   },
   "source": [
    "To model the lunch hour, we did a breakdown of the class schedule to find when students have time for lunch. Below is this year's class shedule, including only the parts of classes that have start or end times during the lunch period. Also, classes that meet at all of the same times are summed together into one bigger class.\n",
    "\n",
    "We have created a class \"person\", as well as a System defining the total number of students that could have lunch in a given period, the maximum swipes per minute, and the total amount of time during the lunch period in minutes. \n",
    "\n",
    "Below, we define how the arrival time is calculated and define our \"person\" class. This class alows us to keep track of each person's time going through the Line and Food Court."
   ]
  },
  {
   "cell_type": "code",
   "execution_count": 2,
   "metadata": {
    "collapsed": false
   },
   "outputs": [
   ],
   "source": [
    "class person:\n",
    "    def __init__(self, startTime):\n",
    "        self.startTime = startTime\n",
    "        self.swipeTime = 0\n",
    "        self.exitTime = 0"
   ]
  },
  {
   "cell_type": "code",
   "execution_count": 3,
   "metadata": {
    "collapsed": false
   },
   "outputs": [
   ],
   "source": [
    "sys = System(day=0, totalStudents=300, swipeRate=10, maxTime=150, maxInCourt=25, exitRate=4)\n",
    "state = State(q = queue.Queue(maxsize=sys.totalStudents), q2 = queue.Queue(maxsize=sys.maxInCourt),\n",
    "              q3 = queue.Queue(maxsize=sys.totalStudents), arrivalRate=0, arrivals=[0 for i in range(int(sys.maxTime))])"
   ]
  },
  {
   "cell_type": "code",
   "execution_count": 4,
   "metadata": {
    "collapsed": false
   },
   "outputs": [
   ],
   "source": [
    "# Runs class schedule data compiling, summing up number of students in class at a\n",
    "# given minute of the day based on each class' times and # students enrolled\n",
    "\n",
    "class Duration:\n",
    "    def __init__(self, hour, minute, hour2, minute2):\n",
    "        self.startTime = (hour - 11.5) * 60 + minute\n",
    "        self.endTime = (hour2 - 11.5) * 60 + minute2\n",
    "\n",
    "class Class:\n",
    "    def __init__(self, students, week):\n",
    "        self.students = students\n",
    "        self.week = week\n",
    "\n",
    "def defineClasses():\n",
    "    return [Class(11, {0:Duration(13,30,14,0)}), Class(9, {1:Duration(13,30,14,0)}),\n",
    "               Class(26, {1:Duration(12,50,14,0)}), Class(6, {2:Duration(13,0,14,0)}),\n",
    "               Class(86, {2:Duration(13,30,14,0)}),\n",
    "               Class(123, {0:Duration(13,30,14,0), 3:Duration(13,30,14,0)}),\n",
    "               Class(267, {0:Duration(11,30,12,30), 3:Duration(11,30,12,30)}),\n",
    "               Class(24, {4:Duration(13,30,14,0)}),\n",
    "               Class(22, {4:Duration(11,30,12,30)}),\n",
    "               Class(23, {1:Duration(13,30,14,0)}),\n",
    "               Class(22, {1:Duration(11,30,12,30)}),\n",
    "               Class(99, {1:Duration(13,30,14,0), 4:Duration(13,30,14,0)}),\n",
    "               Class(137, {1:Duration(11,30,12,30), 4:Duration(11,30,12,30)}),\n",
    "               Class(16, {2:Duration(12,30,14,0), 4:Duration(13,30,14,0)})]"
   ]
  },
  {
   "cell_type": "markdown",
   "metadata": {
    "collapsed": false
   },
   "source": [
    "Determining how many students are in class:"
   ]
  },
  {
   "cell_type": "code",
   "execution_count": 5,
   "metadata": {
    "collapsed": false
   },
   "outputs": [
   ],
   "source": [
    "def calcStudentsBusy(classes):\n",
    "    # First # is day of the week beginning on Monday, second is minutes since lunch started\n",
    "    studentsBusy = [[0 for i in range(int(sys.maxTime))] for j in range(5)]\n",
    "    \n",
    "    # for loop to sum up students in class on a given day at given time\n",
    "    for c in classes:\n",
    "        for day in c.week.keys():\n",
    "            for t in range(len(studentsBusy[day])):\n",
    "                if t >= c.week[day].startTime and t <= c.week[day].endTime:\n",
    "                    studentsBusy[day][t] += c.students\n",
    "    \n",
    "    return studentsBusy"
   ]
  },
  {
   "cell_type": "code",
   "execution_count": 6,
   "metadata": {
    "collapsed": false
   },
   "outputs": [
   ],
   "source": [
    "# Runs exponential distribution calculations of individuals' arrival times based on # people\n",
    "# predicted to eat @ dining hall, students in class, and how many have already eaten lunch\n",
    "\n",
    "def calcArrivalTimes(day):\n",
    "    rate = 10\n",
    "    state.arrivalRate = (sys.totalStudents - studentsBusy[day][0]) / sys.totalStudents * rate\n",
    "    timestamp = np.random.exponential(scale=1.0/state.arrivalRate)\n",
    "    state.arrivals[int(timestamp)] += 1\n",
    "    prevTimestamp = 0\n",
    "    \n",
    "    becameBusy = 0\n",
    "    alreadyAte = 1\n",
    "    \n",
    "    for i in range(1, int(sys.totalStudents)):\n",
    "        # as students go back to class after eating lunch, there's significant overlap between students\n",
    "        # already eaten and students busy, unlike how they were separate at the start of lunch.\n",
    "        # to fix, the diff between prevNumStudentsBusy and currNumStudentsBusy is subtracted from\n",
    "        # totalNumStudentsEaten, accumulating the integral of the positive overlap and subtracting it\n",
    "        \n",
    "        busyRightNow = studentsBusy[day][int(timestamp)]\n",
    "        becameBusy += max([0, busyRightNow - studentsBusy[day][int(prevTimestamp)]])\n",
    "        alreadyAte += 1 - becameBusy\n",
    "        state.arrivalRate = ((sys.totalStudents - min([busyRightNow + alreadyAte, sys.totalStudents]))\n",
    "                             / sys.totalStudents * rate)\n",
    "        print(busyRightNow)\n",
    "#         state.arrivalRate = ((sys.totalStudents - busyRightNow) / sys.totalStudents * rate)\n",
    "\n",
    "        if state.arrivalRate > 0:\n",
    "            prevTimestamp = timestamp\n",
    "            timestamp += np.random.exponential(scale=1.0/state.arrivalRate)\n",
    "            if timestamp >= sys.maxTime:\n",
    "                return\n",
    "            state.arrivals[int(timestamp)] += 1"
   ]
  },
  {
   "cell_type": "markdown",
   "metadata": {
    "collapsed": false
   },
   "source": [
    "The code below runs the simulation, updating who is arriving in Line, who gets swiped through to the Food Court, and who exits the system (equivalent to going into q3)."
   ]
  },
  {
   "cell_type": "code",
   "execution_count": 7,
   "metadata": {
    "collapsed": false,
    "scrolled": true
   },
   "outputs": [
   ],
   "source": [
    "# Runs the dining hall line from the exponential distribution, finding how many people arrive in every minute and adding them to q.\n",
    "def updateLine(minute):\n",
    "    for p in range(state.arrivals[minute]):\n",
    "        state.q.put(person(minute))\n",
    "\n",
    "# If the size of q2 reaches that of the maximum Food Court size, then the funtion returns without swiping students through.\n",
    "def updateSwipe(minute):\n",
    "    for p in range(int(sys.swipeRate)):\n",
    "        if state.q2.qsize() == sys.maxInCourt:\n",
    "            return\n",
    "        if not state.q.empty():\n",
    "            human = state.q.get()\n",
    "            human.swipeTime = minute\n",
    "            state.q2.put(human)\n",
    "\n",
    "# CHANGE ME!!! Approximately one fifth of the people in q2 leave every minute, making the average time spent getting food to be about 5 minutes. \n",
    "def updateExit(minute):\n",
    "    for p in range(int(sys.exitRate)):\n",
    "        if not state.q2.empty():\n",
    "            human = state.q2.get()\n",
    "            human.exitTime = minute\n",
    "            state.q3.put(human)"
   ]
  },
  {
   "cell_type": "code",
   "execution_count": 8,
   "metadata": {
    "collapsed": false
   },
   "outputs": [
   ],
   "source": [
    "# the arrays here append information in order to keep track of \n",
    "def runLineSimulation():\n",
    "    timeSeries = []\n",
    "    \n",
    "    for minute in range(int(sys.maxTime)):\n",
    "        lastIndex = updateLine(minute)\n",
    "        updateSwipe(minute)\n",
    "        updateExit(minute)\n",
    "        timeSeries.append(state.q.qsize())\n",
    "    \n",
    "    return timeSeries"
   ]
  },
  {
   "cell_type": "markdown",
   "metadata": {
    "collapsed": false
   },
   "source": [
    "Defining how we would like to graph the final results of the model."
   ]
  },
  {
   "cell_type": "code",
   "execution_count": 9,
   "metadata": {
    "collapsed": false
   },
   "outputs": [
   ],
   "source": [
    "def determineResults():\n",
    "    startTime = []\n",
    "    timeDiff = []\n",
    "    \n",
    "    while not state.q3.empty():\n",
    "        human = state.q3.get()\n",
    "        startTime.append(human.startTime)\n",
    "        timeDiff.append(human.exitTime - human.startTime)\n",
    "#         print(human.startTime, human.swipeTime, human.exitTime)\n",
    "    \n",
    "    return startTime, timeDiff"
   ]
  },
  {
   "cell_type": "markdown",
   "metadata": {
    "collapsed": false
   },
   "source": [
    "## Results\n",
    "\n",
    "Below you can find the graphs that the model creates.\n",
    "\n",
    "First, a graph from the class schedules documenting the number of people in class on a given day and time. Then, the dining hall arrivals times - note the increase in people arriving at 12:45 - a phenomenon easily verified by the number of times we have waited in line then. Next up, the number of people in that line throughout the lunch period."
   ]
  },
  {
   "cell_type": "markdown",
   "metadata": {
    "collapsed": false
   },
   "source": [
    "Our final graph shows how many people in a given minute leave the Food Court for the dining hall.\n",
    "\n",
    "explain what this graph says about the model, three plots one for each day of the week plus overlap\n",
    "\n",
    "reiterate the time thing\n",
    "\n"
   ]
  },
  {
   "cell_type": "code",
   "execution_count": 10,
   "metadata": {
    "collapsed": false
   },
   "outputs": [
    {
     "data": {
      "text/plain": [
       "Text(0.5, 1.0, 'Class schedule')"
      ]
     },
     "execution_count": 10,
     "metadata": {
     },
     "output_type": "execute_result"
    },
    {
     "data": {
      "image/png": "[encoded data removed]",
      "text/plain": [
       "<Figure size 432x288 with 1 Axes>"
      ]
     },
     "execution_count": 10,
     "metadata": {
      "needs_background": "light"
     },
     "output_type": "execute_result"
    }
   ],
   "source": [
    "studentsBusy = calcStudentsBusy(defineClasses())\n",
    "\n",
    "time = [11.5 + i/60 for i in range(150)]\n",
    "plt.plot(time, studentsBusy[0], 'k--', label=\"Monday\")\n",
    "plt.plot(time, studentsBusy[1], 'b--', label=\"Tuesday\")\n",
    "plt.plot(time, studentsBusy[2], 'g--', label=\"Wednesday\")\n",
    "plt.plot(time, studentsBusy[3], 'r:', label=\"Thursday\")\n",
    "plt.plot(time, studentsBusy[4], 'm:', label=\"Friday\")\n",
    "plt.legend(loc='upper left', prop={'size': 10})\n",
    "plt.ylabel('People in class')\n",
    "plt.xlabel('Time (hour)')\n",
    "plt.title('Class schedule')"
   ]
  },
  {
   "cell_type": "code",
   "execution_count": 11,
   "metadata": {
    "collapsed": false,
    "scrolled": true
   },
   "outputs": [
    {
     "name": "stdout",
     "output_type": "stream",
     "text": [
      "[2, 0, 0, 0, 0, 1, 2, 2, 1, 3, 0, 0, 2, 2, 2, 3, 1, 1, 3, 2, 3, 1, 2, 1, 2, 1, 2, 4, 3, 1, 0, 1, 1, 1, 2, 0, 2, 0, 0, 3, 0, 1, 2, 1, 1, 0, 0, 1, 1, 3, 1, 1, 1, 1, 1, 3, 1, 0, 1, 1, 0, 0, 3, 11, 8, 16, 11, 7, 14, 13, 12, 16, 11, 7, 9, 9, 7, 10, 7, 6, 9, 8, 13, 8, 7, 0, 0, 0, 0, 0, 0, 0, 0, 0, 0, 0, 0, 0, 0, 0, 0, 0, 0, 0, 0, 0, 0, 0, 0, 0, 0, 0, 0, 0, 0, 0, 0, 0, 0, 0, 0, 0, 0, 0, 0, 0, 0, 0, 0, 0, 0, 0, 0, 0, 0, 0, 0, 0, 0, 0, 0, 0, 0, 0, 0, 0, 0, 0, 0, 0]\n"
     ]
    },
    {
     "data": {
      "text/plain": [
       "Text(0.5, 1.0, 'Dining hall arrival times')"
      ]
     },
     "execution_count": 11,
     "metadata": {
     },
     "output_type": "execute_result"
    },
    {
     "data": {
      "image/png": "[encoded data removed]",
      "text/plain": [
       "<Figure size 432x288 with 1 Axes>"
      ]
     },
     "execution_count": 11,
     "metadata": {
      "needs_background": "light"
     },
     "output_type": "execute_result"
    }
   ],
   "source": [
    "# adjust which day of the week to look at using the parameter there\n",
    "calcArrivalTimes(0)\n",
    "print(state.arrivals)\n",
    "plot(state.arrivals)\n",
    "\n",
    "plt.ylabel('# People Arrived')\n",
    "plt.xlabel('Time (hour)')\n",
    "plt.title('Dining hall arrival times')"
   ]
  },
  {
   "cell_type": "code",
   "execution_count": 12,
   "metadata": {
    "collapsed": false
   },
   "outputs": [
    {
     "data": {
      "text/plain": [
       "Text(0.5, 1.0, 'Dining hall line length over time')"
      ]
     },
     "execution_count": 12,
     "metadata": {
     },
     "output_type": "execute_result"
    },
    {
     "data": {
      "image/png": "[encoded data removed]",
      "text/plain": [
       "<Figure size 432x288 with 1 Axes>"
      ]
     },
     "execution_count": 12,
     "metadata": {
      "needs_background": "light"
     },
     "output_type": "execute_result"
    }
   ],
   "source": [
    "result = runLineSimulation()\n",
    "plt.plot([11.5+i/60.0 for i in range(len(result))], result)\n",
    "plt.ylabel('# People in line')\n",
    "plt.xlabel('Time (hour)')\n",
    "plt.title('Dining hall line length over time')"
   ]
  },
  {
   "cell_type": "code",
   "execution_count": 13,
   "metadata": {
    "collapsed": false
   },
   "outputs": [
    {
     "data": {
      "text/plain": [
       "Text(0.5, 1.0, 'Wait time by arrival time')"
      ]
     },
     "execution_count": 13,
     "metadata": {
     },
     "output_type": "execute_result"
    },
    {
     "data": {
      "image/png": "[encoded data removed]",
      "text/plain": [
       "<Figure size 432x288 with 1 Axes>"
      ]
     },
     "execution_count": 13,
     "metadata": {
      "needs_background": "light"
     },
     "output_type": "execute_result"
    }
   ],
   "source": [
    "startTime, timeDiff = determineResults()\n",
    "plt.plot(startTime, timeDiff)\n",
    "\n",
    "plt.ylabel('Time spent waiting (min)')\n",
    "plt.xlabel('Time (hour)')\n",
    "plt.title('Wait time by arrival time')"
   ]
  },
  {
   "cell_type": "markdown",
   "metadata": {
    "collapsed": false
   },
   "source": [
    "## Interpretation\n",
    "\n",
    "Our graphs currently show trends that seem reasonable compared to our experiences at the dining hall. However, this could be due to the assumptions we have made. Namely, the values for the max swipe rate, that the number of students eating is the total number of Olin students, and the max capacity of the Food Court. \n",
    "\n",
    "One of the largest things we are ommitting from the model is Taco Tuesday, and other themed lunch days that affect the number of students that come in. A higher percentage of Olin eats lunch on those days, and Babson students often come by as well. \n",
    "\n",
    "Much remains to be worked out for our model. First, we need to calculate the total time students are spending in the Line and Food Court based on how many times the simulation runs before they are moved to q3. We also need to take data and implement it to address the assumptions for the swipe rate etc. Finally, we need to implement the changing swipe rate based on the number of people in q2, the Food Court, to mimick what happens when there are so many people that the line stops moving for a minute or so. \n",
    "\n",
    "In the end, it would be nice to have a graph that plots wait time as a function of arrival time. There could be 5 of these graphs, one for each day of the school week. In the days to come we are pushing towards these goals and minimizing our assumptions.\n",
    "\n",
    "External validation? look into other models (ex dinner rush at a big restaurant)..."
   ]
  },
  {
   "cell_type": "code",
   "execution_count": 0,
   "metadata": {
    "collapsed": false
   },
   "outputs": [
   ],
   "source": [
   ]
  },
  {
   "cell_type": "code",
   "execution_count": 0,
   "metadata": {
    "collapsed": false
   },
   "outputs": [
   ],
   "source": [
   ]
  }
 ],
 "metadata": {
  "kernelspec": {
   "display_name": "Python 3",
   "language": "python",
   "name": "python3"
  },
  "language_info": {
   "codemirror_mode": {
    "name": "ipython",
    "version": 3
   },
   "file_extension": ".py",
   "mimetype": "text/x-python",
   "name": "python",
   "nbconvert_exporter": "python",
   "pygments_lexer": "ipython3",
   "version": "3.7.3"
  }
 },
 "nbformat": 4,
 "nbformat_minor": 0
}